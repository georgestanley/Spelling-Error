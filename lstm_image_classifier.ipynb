{
 "cells": [
  {
   "cell_type": "markdown",
   "metadata": {
    "collapsed": true,
    "pycharm": {
     "name": "#%% md\n"
    }
   },
   "source": [
    "#Refer https://github.com/ritchieng/deep-learning-wizard/blob/master/docs/deep_learning/practical_pytorch/pytorch_lstm_neuralnetwork.ipynb\n",
    "\n"
   ]
  },
  {
   "cell_type": "code",
   "source": [
    "import torch\n",
    "import torch.nn as nn\n",
    "import torchvision.transforms as transforms\n",
    "import torchvision.datasets as dsets\n",
    "\n",
    "train_dataset = dsets.MNIST(root='./data',\n",
    "                            train=True,\n",
    "                            transform=transforms.ToTensor(),\n",
    "                            download=True)\n",
    "\n",
    "test_dataset = dsets.MNIST(root='./data',\n",
    "                           train=False,\n",
    "                           transform=transforms.ToTensor())\n"
   ],
   "metadata": {
    "collapsed": false,
    "pycharm": {
     "name": "#%%\n"
    }
   },
   "execution_count": 16,
   "outputs": []
  },
  {
   "cell_type": "code",
   "source": [
    "print(train_dataset.train_data.size())\n",
    "print(train_dataset.train_labels.size())\n",
    "print(test_dataset.test_labels.size())\n",
    "print(test_dataset.test_data.size())"
   ],
   "metadata": {
    "collapsed": false,
    "pycharm": {
     "name": "#%%\n"
    }
   },
   "execution_count": 17,
   "outputs": [
    {
     "name": "stdout",
     "output_type": "stream",
     "text": [
      "torch.Size([60000, 28, 28])\n",
      "torch.Size([60000])\n",
      "torch.Size([10000])\n",
      "torch.Size([10000, 28, 28])\n"
     ]
    }
   ]
  },
  {
   "cell_type": "code",
   "execution_count": 18,
   "outputs": [
    {
     "name": "stdout",
     "output_type": "stream",
     "text": [
      "5\n"
     ]
    }
   ],
   "source": [
    "batch_size = 100\n",
    "n_iters = 3000\n",
    "num_epochs = n_iters / (len(train_dataset) / batch_size)\n",
    "num_epochs = int(num_epochs)\n",
    "\n",
    "train_loader = torch.utils.data.DataLoader(dataset=train_dataset,\n",
    "                                           batch_size=batch_size,\n",
    "                                           shuffle=True)\n",
    "\n",
    "test_loader = torch.utils.data.DataLoader(dataset=test_dataset,\n",
    "                                          batch_size=batch_size,\n",
    "                                          shuffle=False)\n",
    "print(num_epochs)"
   ],
   "metadata": {
    "collapsed": false,
    "pycharm": {
     "name": "#%%\n"
    }
   }
  },
  {
   "cell_type": "code",
   "execution_count": 19,
   "outputs": [],
   "source": [
    "class LSTMModel(nn.Module):\n",
    "    def __init__(self, input_dim, hidden_dim, layer_dim, output_dim):\n",
    "        super(LSTMModel, self).__init__()\n",
    "        self.hidden_dim = hidden_dim\n",
    "\n",
    "        # Number of hidden layers\n",
    "        self.layer_dim = layer_dim\n",
    "\n",
    "        # Building your LSTM\n",
    "        # batch_first=True causes input/output tensors to be of shape\n",
    "        # (batch_dim, seq_dim, feature_dim)\n",
    "        self.lstm = nn.LSTM(input_dim, hidden_dim, layer_dim, batch_first=True)\n",
    "\n",
    "        # Readout layer\n",
    "        self.fc = nn.Linear(hidden_dim, output_dim)\n",
    "\n",
    "    def forward(self, x):\n",
    "        # Initialize hidden state with zeros\n",
    "        h0 = torch.zeros(self.layer_dim, x.size(0), self.hidden_dim).requires_grad_()\n",
    "\n",
    "        # Initialize cell state\n",
    "        c0 = torch.zeros(self.layer_dim, x.size(0), self.hidden_dim).requires_grad_()\n",
    "\n",
    "        # 28 time steps\n",
    "        # We need to detach as we are doing truncated backpropagation through time (BPTT)\n",
    "        # If we don't, we'll backprop all the way to the start even after going through another batch\n",
    "        print(\"X Shape\", x.shape)\n",
    "        out, (hn, cn) = self.lstm(x, (h0.detach(), c0.detach()))\n",
    "\n",
    "        # Index hidden state of last time step\n",
    "        # out.size() --> 100, 28, 100\n",
    "        # out[:, -1, :] --> 100, 100 --> just want last time step hidden states!\n",
    "        out = self.fc(out[:, -1, :])\n",
    "        # out.size() --> 100, 10\n",
    "        return out"
   ],
   "metadata": {
    "collapsed": false,
    "pycharm": {
     "name": "#%%\n"
    }
   }
  },
  {
   "cell_type": "code",
   "execution_count": 20,
   "outputs": [],
   "source": [
    "input_dim = 28\n",
    "hidden_dim = 100\n",
    "layer_dim = 2\n",
    "output_dim = 10\n",
    "\n",
    "model = LSTMModel(input_dim, hidden_dim, layer_dim, output_dim)"
   ],
   "metadata": {
    "collapsed": false,
    "pycharm": {
     "name": "#%%\n"
    }
   }
  },
  {
   "cell_type": "code",
   "execution_count": 21,
   "outputs": [],
   "source": [
    "criterion = nn.CrossEntropyLoss()"
   ],
   "metadata": {
    "collapsed": false,
    "pycharm": {
     "name": "#%%\n"
    }
   }
  },
  {
   "cell_type": "code",
   "execution_count": 22,
   "outputs": [],
   "source": [
    "learning_rate = 0.1\n",
    "\n",
    "optimizer = torch.optim.SGD(model.parameters(), lr=learning_rate)"
   ],
   "metadata": {
    "collapsed": false,
    "pycharm": {
     "name": "#%%\n"
    }
   }
  },
  {
   "cell_type": "code",
   "execution_count": 23,
   "outputs": [
    {
     "data": {
      "text/plain": "10"
     },
     "execution_count": 23,
     "metadata": {},
     "output_type": "execute_result"
    }
   ],
   "source": [
    "len(list(model.parameters()))"
   ],
   "metadata": {
    "collapsed": false,
    "pycharm": {
     "name": "#%%\n"
    }
   }
  },
  {
   "cell_type": "code",
   "execution_count": 24,
   "outputs": [
    {
     "name": "stdout",
     "output_type": "stream",
     "text": [
      "torch.Size([400, 28])\n",
      "torch.Size([400, 100])\n",
      "torch.Size([400])\n",
      "torch.Size([400])\n",
      "torch.Size([400, 100])\n",
      "torch.Size([400, 100])\n",
      "torch.Size([400])\n",
      "torch.Size([400])\n",
      "torch.Size([10, 100])\n",
      "torch.Size([10])\n"
     ]
    }
   ],
   "source": [
    "for i in range(len(list(model.parameters()))):\n",
    "    print(list(model.parameters())[i].size())"
   ],
   "metadata": {
    "collapsed": false,
    "pycharm": {
     "name": "#%%\n"
    }
   }
  },
  {
   "cell_type": "code",
   "execution_count": 27,
   "outputs": [
    {
     "name": "stdout",
     "output_type": "stream",
     "text": [
      "X Shape torch.Size([100, 28, 28])\n",
      "labels shape torch.Size([100])\n",
      "X Shape torch.Size([100, 28, 28])\n",
      "labels shape torch.Size([100])\n",
      "X Shape torch.Size([100, 28, 28])\n",
      "labels shape torch.Size([100])\n",
      "X Shape torch.Size([100, 28, 28])\n",
      "labels shape torch.Size([100])\n",
      "X Shape torch.Size([100, 28, 28])\n",
      "labels shape torch.Size([100])\n",
      "X Shape torch.Size([100, 28, 28])\n",
      "labels shape torch.Size([100])\n",
      "X Shape torch.Size([100, 28, 28])\n",
      "labels shape torch.Size([100])\n",
      "X Shape torch.Size([100, 28, 28])\n",
      "labels shape torch.Size([100])\n",
      "X Shape torch.Size([100, 28, 28])\n",
      "labels shape torch.Size([100])\n",
      "X Shape torch.Size([100, 28, 28])\n",
      "labels shape torch.Size([100])\n",
      "X Shape torch.Size([100, 28, 28])\n",
      "labels shape torch.Size([100])\n",
      "X Shape torch.Size([100, 28, 28])\n",
      "labels shape torch.Size([100])\n",
      "X Shape torch.Size([100, 28, 28])\n",
      "labels shape torch.Size([100])\n",
      "X Shape torch.Size([100, 28, 28])\n",
      "labels shape torch.Size([100])\n",
      "X Shape torch.Size([100, 28, 28])\n",
      "labels shape torch.Size([100])\n",
      "X Shape torch.Size([100, 28, 28])\n",
      "labels shape torch.Size([100])\n",
      "X Shape torch.Size([100, 28, 28])\n",
      "labels shape torch.Size([100])\n",
      "X Shape torch.Size([100, 28, 28])\n",
      "labels shape torch.Size([100])\n",
      "X Shape torch.Size([100, 28, 28])\n",
      "labels shape torch.Size([100])\n",
      "X Shape torch.Size([100, 28, 28])\n",
      "labels shape torch.Size([100])\n",
      "X Shape torch.Size([100, 28, 28])\n",
      "labels shape torch.Size([100])\n",
      "X Shape torch.Size([100, 28, 28])\n",
      "labels shape torch.Size([100])\n",
      "X Shape torch.Size([100, 28, 28])\n",
      "labels shape torch.Size([100])\n",
      "X Shape torch.Size([100, 28, 28])\n",
      "labels shape torch.Size([100])\n",
      "X Shape torch.Size([100, 28, 28])\n",
      "labels shape torch.Size([100])\n",
      "X Shape torch.Size([100, 28, 28])\n",
      "labels shape torch.Size([100])\n",
      "X Shape torch.Size([100, 28, 28])\n",
      "labels shape torch.Size([100])\n",
      "X Shape torch.Size([100, 28, 28])\n",
      "labels shape torch.Size([100])\n",
      "X Shape torch.Size([100, 28, 28])\n",
      "labels shape torch.Size([100])\n",
      "X Shape torch.Size([100, 28, 28])\n",
      "labels shape torch.Size([100])\n",
      "X Shape torch.Size([100, 28, 28])\n",
      "labels shape torch.Size([100])\n",
      "X Shape torch.Size([100, 28, 28])\n",
      "labels shape torch.Size([100])\n",
      "X Shape torch.Size([100, 28, 28])\n",
      "labels shape torch.Size([100])\n",
      "X Shape torch.Size([100, 28, 28])\n",
      "labels shape torch.Size([100])\n",
      "X Shape torch.Size([100, 28, 28])\n",
      "labels shape torch.Size([100])\n",
      "X Shape torch.Size([100, 28, 28])\n",
      "labels shape torch.Size([100])\n",
      "X Shape torch.Size([100, 28, 28])\n",
      "labels shape torch.Size([100])\n",
      "X Shape torch.Size([100, 28, 28])\n",
      "labels shape torch.Size([100])\n",
      "X Shape torch.Size([100, 28, 28])\n",
      "labels shape torch.Size([100])\n",
      "X Shape torch.Size([100, 28, 28])\n",
      "labels shape torch.Size([100])\n",
      "X Shape torch.Size([100, 28, 28])\n",
      "labels shape torch.Size([100])\n",
      "X Shape torch.Size([100, 28, 28])\n",
      "labels shape torch.Size([100])\n",
      "X Shape torch.Size([100, 28, 28])\n",
      "labels shape torch.Size([100])\n",
      "X Shape torch.Size([100, 28, 28])\n",
      "labels shape torch.Size([100])\n",
      "X Shape torch.Size([100, 28, 28])\n",
      "labels shape torch.Size([100])\n",
      "X Shape torch.Size([100, 28, 28])\n",
      "labels shape torch.Size([100])\n",
      "X Shape torch.Size([100, 28, 28])\n",
      "labels shape torch.Size([100])\n",
      "X Shape torch.Size([100, 28, 28])\n",
      "labels shape torch.Size([100])\n",
      "X Shape torch.Size([100, 28, 28])\n",
      "labels shape torch.Size([100])\n",
      "X Shape torch.Size([100, 28, 28])\n",
      "labels shape torch.Size([100])\n",
      "X Shape torch.Size([100, 28, 28])\n",
      "labels shape torch.Size([100])\n",
      "X Shape torch.Size([100, 28, 28])\n",
      "labels shape torch.Size([100])\n",
      "X Shape torch.Size([100, 28, 28])\n",
      "labels shape torch.Size([100])\n",
      "X Shape torch.Size([100, 28, 28])\n",
      "labels shape torch.Size([100])\n",
      "X Shape torch.Size([100, 28, 28])\n",
      "labels shape torch.Size([100])\n",
      "X Shape torch.Size([100, 28, 28])\n",
      "labels shape torch.Size([100])\n",
      "X Shape torch.Size([100, 28, 28])\n",
      "labels shape torch.Size([100])\n",
      "X Shape torch.Size([100, 28, 28])\n",
      "labels shape torch.Size([100])\n",
      "X Shape torch.Size([100, 28, 28])\n",
      "labels shape torch.Size([100])\n",
      "X Shape torch.Size([100, 28, 28])\n",
      "labels shape torch.Size([100])\n",
      "X Shape torch.Size([100, 28, 28])\n",
      "labels shape torch.Size([100])\n",
      "X Shape torch.Size([100, 28, 28])\n",
      "labels shape torch.Size([100])\n",
      "X Shape torch.Size([100, 28, 28])\n",
      "labels shape torch.Size([100])\n",
      "X Shape torch.Size([100, 28, 28])\n",
      "labels shape torch.Size([100])\n",
      "X Shape torch.Size([100, 28, 28])\n",
      "labels shape torch.Size([100])\n",
      "X Shape torch.Size([100, 28, 28])\n",
      "labels shape torch.Size([100])\n",
      "X Shape torch.Size([100, 28, 28])\n",
      "labels shape torch.Size([100])\n",
      "X Shape torch.Size([100, 28, 28])\n",
      "labels shape torch.Size([100])\n",
      "X Shape torch.Size([100, 28, 28])\n",
      "labels shape torch.Size([100])\n",
      "X Shape torch.Size([100, 28, 28])\n",
      "labels shape torch.Size([100])\n",
      "X Shape torch.Size([100, 28, 28])\n",
      "labels shape torch.Size([100])\n",
      "X Shape torch.Size([100, 28, 28])\n",
      "labels shape torch.Size([100])\n",
      "X Shape torch.Size([100, 28, 28])\n",
      "labels shape torch.Size([100])\n",
      "X Shape torch.Size([100, 28, 28])\n",
      "labels shape torch.Size([100])\n",
      "X Shape torch.Size([100, 28, 28])\n",
      "labels shape torch.Size([100])\n",
      "X Shape torch.Size([100, 28, 28])\n",
      "labels shape torch.Size([100])\n",
      "X Shape torch.Size([100, 28, 28])\n",
      "labels shape torch.Size([100])\n",
      "X Shape torch.Size([100, 28, 28])\n",
      "labels shape torch.Size([100])\n",
      "X Shape torch.Size([100, 28, 28])\n",
      "labels shape torch.Size([100])\n",
      "X Shape torch.Size([100, 28, 28])\n",
      "labels shape torch.Size([100])\n",
      "X Shape torch.Size([100, 28, 28])\n",
      "labels shape torch.Size([100])\n",
      "X Shape torch.Size([100, 28, 28])\n",
      "labels shape torch.Size([100])\n",
      "X Shape torch.Size([100, 28, 28])\n",
      "labels shape torch.Size([100])\n",
      "X Shape torch.Size([100, 28, 28])\n",
      "labels shape torch.Size([100])\n",
      "X Shape torch.Size([100, 28, 28])\n",
      "labels shape torch.Size([100])\n",
      "X Shape torch.Size([100, 28, 28])\n",
      "labels shape torch.Size([100])\n",
      "X Shape torch.Size([100, 28, 28])\n",
      "labels shape torch.Size([100])\n",
      "X Shape torch.Size([100, 28, 28])\n",
      "labels shape torch.Size([100])\n",
      "X Shape torch.Size([100, 28, 28])\n",
      "labels shape torch.Size([100])\n",
      "X Shape torch.Size([100, 28, 28])\n",
      "labels shape torch.Size([100])\n",
      "X Shape torch.Size([100, 28, 28])\n",
      "labels shape torch.Size([100])\n",
      "X Shape torch.Size([100, 28, 28])\n",
      "labels shape torch.Size([100])\n",
      "X Shape torch.Size([100, 28, 28])\n",
      "labels shape torch.Size([100])\n",
      "X Shape torch.Size([100, 28, 28])\n",
      "labels shape torch.Size([100])\n",
      "X Shape torch.Size([100, 28, 28])\n",
      "labels shape torch.Size([100])\n",
      "X Shape torch.Size([100, 28, 28])\n",
      "labels shape torch.Size([100])\n",
      "X Shape torch.Size([100, 28, 28])\n",
      "labels shape torch.Size([100])\n",
      "X Shape torch.Size([100, 28, 28])\n",
      "labels shape torch.Size([100])\n",
      "X Shape torch.Size([100, 28, 28])\n",
      "labels shape torch.Size([100])\n",
      "X Shape torch.Size([100, 28, 28])\n",
      "labels shape torch.Size([100])\n",
      "X Shape torch.Size([100, 28, 28])\n",
      "labels shape torch.Size([100])\n",
      "X Shape torch.Size([100, 28, 28])\n",
      "labels shape torch.Size([100])\n",
      "X Shape torch.Size([100, 28, 28])\n",
      "labels shape torch.Size([100])\n",
      "X Shape torch.Size([100, 28, 28])\n",
      "labels shape torch.Size([100])\n",
      "X Shape torch.Size([100, 28, 28])\n",
      "labels shape torch.Size([100])\n",
      "X Shape torch.Size([100, 28, 28])\n",
      "labels shape torch.Size([100])\n",
      "X Shape torch.Size([100, 28, 28])\n",
      "labels shape torch.Size([100])\n",
      "X Shape torch.Size([100, 28, 28])\n",
      "labels shape torch.Size([100])\n",
      "X Shape torch.Size([100, 28, 28])\n",
      "labels shape torch.Size([100])\n",
      "X Shape torch.Size([100, 28, 28])\n",
      "labels shape torch.Size([100])\n",
      "X Shape torch.Size([100, 28, 28])\n",
      "labels shape torch.Size([100])\n",
      "X Shape torch.Size([100, 28, 28])\n",
      "labels shape torch.Size([100])\n",
      "X Shape torch.Size([100, 28, 28])\n",
      "labels shape torch.Size([100])\n",
      "X Shape torch.Size([100, 28, 28])\n",
      "labels shape torch.Size([100])\n",
      "X Shape torch.Size([100, 28, 28])\n",
      "labels shape torch.Size([100])\n",
      "X Shape torch.Size([100, 28, 28])\n",
      "labels shape torch.Size([100])\n",
      "X Shape torch.Size([100, 28, 28])\n",
      "labels shape torch.Size([100])\n",
      "X Shape torch.Size([100, 28, 28])\n",
      "labels shape torch.Size([100])\n",
      "X Shape torch.Size([100, 28, 28])\n",
      "labels shape torch.Size([100])\n",
      "X Shape torch.Size([100, 28, 28])\n",
      "labels shape torch.Size([100])\n",
      "X Shape torch.Size([100, 28, 28])\n",
      "labels shape torch.Size([100])\n",
      "X Shape torch.Size([100, 28, 28])\n",
      "labels shape torch.Size([100])\n",
      "X Shape torch.Size([100, 28, 28])\n",
      "labels shape torch.Size([100])\n"
     ]
    },
    {
     "ename": "KeyboardInterrupt",
     "evalue": "",
     "output_type": "error",
     "traceback": [
      "\u001B[1;31m---------------------------------------------------------------------------\u001B[0m",
      "\u001B[1;31mKeyboardInterrupt\u001B[0m                         Traceback (most recent call last)",
      "\u001B[1;32m<ipython-input-27-795978d3b9ca>\u001B[0m in \u001B[0;36m<module>\u001B[1;34m\u001B[0m\n\u001B[0;32m     24\u001B[0m \u001B[1;33m\u001B[0m\u001B[0m\n\u001B[0;32m     25\u001B[0m         \u001B[1;31m# Getting gradients w.r.t. parameters\u001B[0m\u001B[1;33m\u001B[0m\u001B[1;33m\u001B[0m\u001B[1;33m\u001B[0m\u001B[0m\n\u001B[1;32m---> 26\u001B[1;33m         \u001B[0mloss\u001B[0m\u001B[1;33m.\u001B[0m\u001B[0mbackward\u001B[0m\u001B[1;33m(\u001B[0m\u001B[1;33m)\u001B[0m\u001B[1;33m\u001B[0m\u001B[1;33m\u001B[0m\u001B[0m\n\u001B[0m\u001B[0;32m     27\u001B[0m \u001B[1;33m\u001B[0m\u001B[0m\n\u001B[0;32m     28\u001B[0m         \u001B[1;31m# Updating parameters\u001B[0m\u001B[1;33m\u001B[0m\u001B[1;33m\u001B[0m\u001B[1;33m\u001B[0m\u001B[0m\n",
      "\u001B[1;32mC:\\ProgramData\\Miniconda3\\envs\\mydlenv\\lib\\site-packages\\torch\\tensor.py\u001B[0m in \u001B[0;36mbackward\u001B[1;34m(self, gradient, retain_graph, create_graph)\u001B[0m\n\u001B[0;32m    219\u001B[0m                 \u001B[0mretain_graph\u001B[0m\u001B[1;33m=\u001B[0m\u001B[0mretain_graph\u001B[0m\u001B[1;33m,\u001B[0m\u001B[1;33m\u001B[0m\u001B[1;33m\u001B[0m\u001B[0m\n\u001B[0;32m    220\u001B[0m                 create_graph=create_graph)\n\u001B[1;32m--> 221\u001B[1;33m         \u001B[0mtorch\u001B[0m\u001B[1;33m.\u001B[0m\u001B[0mautograd\u001B[0m\u001B[1;33m.\u001B[0m\u001B[0mbackward\u001B[0m\u001B[1;33m(\u001B[0m\u001B[0mself\u001B[0m\u001B[1;33m,\u001B[0m \u001B[0mgradient\u001B[0m\u001B[1;33m,\u001B[0m \u001B[0mretain_graph\u001B[0m\u001B[1;33m,\u001B[0m \u001B[0mcreate_graph\u001B[0m\u001B[1;33m)\u001B[0m\u001B[1;33m\u001B[0m\u001B[1;33m\u001B[0m\u001B[0m\n\u001B[0m\u001B[0;32m    222\u001B[0m \u001B[1;33m\u001B[0m\u001B[0m\n\u001B[0;32m    223\u001B[0m     \u001B[1;32mdef\u001B[0m \u001B[0mregister_hook\u001B[0m\u001B[1;33m(\u001B[0m\u001B[0mself\u001B[0m\u001B[1;33m,\u001B[0m \u001B[0mhook\u001B[0m\u001B[1;33m)\u001B[0m\u001B[1;33m:\u001B[0m\u001B[1;33m\u001B[0m\u001B[1;33m\u001B[0m\u001B[0m\n",
      "\u001B[1;32mC:\\ProgramData\\Miniconda3\\envs\\mydlenv\\lib\\site-packages\\torch\\autograd\\__init__.py\u001B[0m in \u001B[0;36mbackward\u001B[1;34m(tensors, grad_tensors, retain_graph, create_graph, grad_variables)\u001B[0m\n\u001B[0;32m    128\u001B[0m         \u001B[0mretain_graph\u001B[0m \u001B[1;33m=\u001B[0m \u001B[0mcreate_graph\u001B[0m\u001B[1;33m\u001B[0m\u001B[1;33m\u001B[0m\u001B[0m\n\u001B[0;32m    129\u001B[0m \u001B[1;33m\u001B[0m\u001B[0m\n\u001B[1;32m--> 130\u001B[1;33m     Variable._execution_engine.run_backward(\n\u001B[0m\u001B[0;32m    131\u001B[0m         \u001B[0mtensors\u001B[0m\u001B[1;33m,\u001B[0m \u001B[0mgrad_tensors_\u001B[0m\u001B[1;33m,\u001B[0m \u001B[0mretain_graph\u001B[0m\u001B[1;33m,\u001B[0m \u001B[0mcreate_graph\u001B[0m\u001B[1;33m,\u001B[0m\u001B[1;33m\u001B[0m\u001B[1;33m\u001B[0m\u001B[0m\n\u001B[0;32m    132\u001B[0m         allow_unreachable=True)  # allow_unreachable flag\n",
      "\u001B[1;31mKeyboardInterrupt\u001B[0m: "
     ]
    }
   ],
   "source": [
    "# Number of steps to unroll\n",
    "seq_dim = 28\n",
    "\n",
    "iter = 0\n",
    "for epoch in range(num_epochs):\n",
    "    for i, (images, labels) in enumerate(train_loader):\n",
    "        # Load images as a torch tensor with gradient accumulation abilities\n",
    "        #print(\"Image Shape before\", images.shape)\n",
    "\n",
    "        images = images.view(-1, seq_dim, input_dim).requires_grad_()\n",
    "\n",
    "        #print(\"Image Shape after\", images.shape)\n",
    "        # Clear gradients w.r.t. parameters\n",
    "\n",
    "        optimizer.zero_grad()\n",
    "\n",
    "        # Forward pass to get output/logits\n",
    "        # outputs.size() --> 100, 10\n",
    "        outputs = model(images)\n",
    "\n",
    "        # Calculate Loss: softmax --> cross entropy loss\n",
    "        print(\"labels shape\",labels.shape)\n",
    "        loss = criterion(outputs, labels)\n",
    "\n",
    "        # Getting gradients w.r.t. parameters\n",
    "        loss.backward()\n",
    "\n",
    "        # Updating parameters\n",
    "        optimizer.step()\n",
    "\n",
    "        iter += 1\n",
    "\n",
    "        if iter % 500 == 0:\n",
    "            # Calculate Accuracy\n",
    "            correct = 0\n",
    "            total = 0\n",
    "            # Iterate through test dataset\n",
    "            for images, labels in test_loader:\n",
    "                # Resize images\n",
    "                images = images.view(-1, seq_dim, input_dim)\n",
    "\n",
    "                # Forward pass only to get logits/output\n",
    "                outputs = model(images)\n",
    "\n",
    "                # Get predictions from the maximum value\n",
    "                _, predicted = torch.max(outputs.data, 1)\n",
    "\n",
    "                # Total number of labels\n",
    "                total += labels.size(0)\n",
    "\n",
    "                # Total correct predictions\n",
    "                correct += (predicted == labels).sum()\n",
    "\n",
    "            accuracy = 100 * correct / total\n",
    "\n",
    "            # Print Loss\n",
    "            print('Iteration: {}. Loss: {}. Accuracy: {}'.format(iter, loss.item(), accuracy))\n"
   ],
   "metadata": {
    "collapsed": false,
    "pycharm": {
     "name": "#%%\n"
    }
   }
  }
 ],
 "metadata": {
  "kernelspec": {
   "name": "pycharm-c12f8a91",
   "language": "python",
   "display_name": "PyCharm (MasterProject)"
  },
  "language_info": {
   "codemirror_mode": {
    "name": "ipython",
    "version": 2
   },
   "file_extension": ".py",
   "mimetype": "text/x-python",
   "name": "python",
   "nbconvert_exporter": "python",
   "pygments_lexer": "ipython2",
   "version": "2.7.6"
  }
 },
 "nbformat": 4,
 "nbformat_minor": 0
}