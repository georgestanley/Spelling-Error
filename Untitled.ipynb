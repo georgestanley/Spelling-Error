{
 "cells": [
  {
   "cell_type": "code",
   "execution_count": 6,
   "id": "d590f6b5",
   "metadata": {
    "pycharm": {
     "name": "#%%\n"
    }
   },
   "outputs": [],
   "source": [
    "import pandas as pd\n",
    "import re"
   ]
  },
  {
   "cell_type": "code",
   "execution_count": 2,
   "id": "9b7f60e0",
   "metadata": {
    "pycharm": {
     "name": "#%%\n"
    }
   },
   "outputs": [],
   "source": [
    "blog_data = pd.read_csv(\"blog_authorship_corpus/blogtext.csv\", nrows=100000)\n"
   ]
  },
  {
   "cell_type": "code",
   "execution_count": 5,
   "id": "5ce48519",
   "metadata": {
    "pycharm": {
     "name": "#%%\n"
    }
   },
   "outputs": [
    {
     "data": {
      "text/plain": [
       "\"             I had an interesting conversation with my Dad this morning.  We were talking about where Koreans put their money.  Invariably, they have a lot of real estate and cash.  (Cash would include short term investments under one year as well as savings accounts.)  The reason?  Real estate makes money here.  A lot of money.  I've seen surveys of Seoul real estate rising about 10-15% PER YEAR for long stretches, even after taking into account the 1997 Crisis (referred to as the IMF crisis here, although it was the IMF that bailed Korea out).  Compare that to Korean corporate bonds which fell 90-99% in 1997 and only modestly recovered, and a local stock market (represented by KOSPI, or their version of the Dow Jones Index) that has not gone appreciably above its 1980s high of 1,000 points (it is now about 800 points, see  urlLink link ) and you can see why real estate makes sense here.  But back to the conversation...I noted that here a 'real big' or 'elite' real estate investor has over 6 billion won (about USD 5,000,000, see  urlLink converter ) in properties.  Dad seemed a little flabbergasted.  'What the heck do they need 5 million dollars for?  They don't need that much to retire.'  Maybe so, but there is a lot of risk here too.  Take real estate (or any other South Korean asset) for example: if the North toots their horn louder or make a move on the country that 5,000,000 USD is worth about 5 cents.  Also, all of it is denominated in won which, during the 'IMF Crisis', dropped about 50% vis-a-vis the USD. Also, if you make a bad investment or some fall victim to a scam--the latest here was the  urlLink Good Morning City  project--you're toast.  I saw a lady on TV who lost everything in it.  Her comment (between the tears): 'Now I know what it's like to go from a rich person to a beggar in one day.'  If you have one of those, some saber-rattling from North Korea and a weak exchange rate your little nest egg could be almost wiped out.  The government has almost zero help for unemployed, disabled or otherwise disenfranchised workers.  The role of family is more important here...so if you have money you should help your family, and if you don't then you should go to them first.  Thus the idea that more is more.  Koreans go all out in most things they do, and investing is no different.  Why have one apartment when you can have 7?  The  urlLink jeonse  system supports this as well.  You see, if you have a 400,000 USD apartment and you rent it out there are two systems you can use in Korea (neither of which are the Western ones, except in rare circumstances).  1.  Renter signs a 2-year contract and deposits about half the market value (200,000 USD) with the owner.  No monthly rent is paid, but the owner can invest in Korean Treasury Bills for about 4-5% per year.  That's a monthly rent/return of $750.  At the end of the term the 200,000 USD is returned to the renter.  2.  Renter signs a 1-year or 2-year contract and deposits about 10%-20% of the market value of the property (10,000-20,000 USD) plus some monthly rent of $400-$600 a month.  In both cases, if the value of the property increases or decreases the jeonse will need to be topped-up or partially refunded.  (Of course I'm using USD in this to save my '0' key and to help 'foreigners' reference it better.)  Thus, if you buy a place for $400,000 you can turn around and rent it out and get $200,000 to (if you like) buy another place or whatever.  Since there are very, very few mortgages in Korea (kind of a cash society, although there are home-equity lines of credit) the system here is a bit different.  The key, of course, is that real estate prices keep going up.         \""
      ]
     },
     "execution_count": 5,
     "metadata": {},
     "output_type": "execute_result"
    }
   ],
   "source": [
    "blog_data.loc[5][6]"
   ]
  },
  {
   "cell_type": "code",
   "execution_count": 7,
   "id": "30a93dd9",
   "metadata": {
    "pycharm": {
     "name": "#%%\n"
    }
   },
   "outputs": [],
   "source": [
    "# remove unwanted chars other than alphanumeric\n",
    "pattern = \"[^\\w ]\"\n",
    "blog_data.text = blog_data.text.apply(lambda s : re.sub(pattern,\"\",s))\n",
    "\n",
    "#convert to lowercase\n",
    "blog_data.text = blog_data.text.apply(lambda s: s.lower(), lambda s:s.strip())"
   ]
  },
  {
   "cell_type": "code",
   "execution_count": 8,
   "id": "988b30b7",
   "metadata": {
    "pycharm": {
     "name": "#%%\n"
    }
   },
   "outputs": [
    {
     "data": {
      "text/plain": [
       "'             i had an interesting conversation with my dad this morning  we were talking about where koreans put their money  invariably they have a lot of real estate and cash  cash would include short term investments under one year as well as savings accounts  the reason  real estate makes money here  a lot of money  ive seen surveys of seoul real estate rising about 1015 per year for long stretches even after taking into account the 1997 crisis referred to as the imf crisis here although it was the imf that bailed korea out  compare that to korean corporate bonds which fell 9099 in 1997 and only modestly recovered and a local stock market represented by kospi or their version of the dow jones index that has not gone appreciably above its 1980s high of 1000 points it is now about 800 points see  urllink link  and you can see why real estate makes sense here  but back to the conversationi noted that here a real big or elite real estate investor has over 6 billion won about usd 5000000 see  urllink converter  in properties  dad seemed a little flabbergasted  what the heck do they need 5 million dollars for  they dont need that much to retire  maybe so but there is a lot of risk here too  take real estate or any other south korean asset for example if the north toots their horn louder or make a move on the country that 5000000 usd is worth about 5 cents  also all of it is denominated in won which during the imf crisis dropped about 50 visavis the usd also if you make a bad investment or some fall victim to a scamthe latest here was the  urllink good morning city  projectyoure toast  i saw a lady on tv who lost everything in it  her comment between the tears now i know what its like to go from a rich person to a beggar in one day  if you have one of those some saberrattling from north korea and a weak exchange rate your little nest egg could be almost wiped out  the government has almost zero help for unemployed disabled or otherwise disenfranchised workers  the role of family is more important hereso if you have money you should help your family and if you dont then you should go to them first  thus the idea that more is more  koreans go all out in most things they do and investing is no different  why have one apartment when you can have 7  the  urllink jeonse  system supports this as well  you see if you have a 400000 usd apartment and you rent it out there are two systems you can use in korea neither of which are the western ones except in rare circumstances  1  renter signs a 2year contract and deposits about half the market value 200000 usd with the owner  no monthly rent is paid but the owner can invest in korean treasury bills for about 45 per year  thats a monthly rentreturn of 750  at the end of the term the 200000 usd is returned to the renter  2  renter signs a 1year or 2year contract and deposits about 1020 of the market value of the property 1000020000 usd plus some monthly rent of 400600 a month  in both cases if the value of the property increases or decreases the jeonse will need to be toppedup or partially refunded  of course im using usd in this to save my 0 key and to help foreigners reference it better  thus if you buy a place for 400000 you can turn around and rent it out and get 200000 to if you like buy another place or whatever  since there are very very few mortgages in korea kind of a cash society although there are homeequity lines of credit the system here is a bit different  the key of course is that real estate prices keep going up         '"
      ]
     },
     "execution_count": 8,
     "metadata": {},
     "output_type": "execute_result"
    }
   ],
   "source": [
    "blog_data.loc[5][6]"
   ]
  },
  {
   "cell_type": "code",
   "execution_count": 1,
   "outputs": [],
   "source": [
    "\n",
    "\n",
    "import numpy as np"
   ],
   "metadata": {
    "collapsed": false,
    "pycharm": {
     "name": "#%%\n"
    }
   }
  },
  {
   "cell_type": "code",
   "execution_count": 3,
   "outputs": [],
   "source": [
    "X = np.array([['i','can','do'],['can','do','all']])\n",
    "alph = \"ABCDEFGHIJKLMNOPQRSTUVWXYZabcdefghijklmnopqrstuvwxyz.,:;'*!?`$%&(){}[]-/\\@_#\"\n"
   ],
   "metadata": {
    "collapsed": false,
    "pycharm": {
     "name": "#%%\n"
    }
   }
  },
  {
   "cell_type": "code",
   "execution_count": 5,
   "outputs": [],
   "source": [
    "\n",
    "def binarize(word):\n",
    "\n",
    "    bin_beg = [0] * len(alph)\n",
    "    bin_middle = [0] * len(alph)\n",
    "    bin_end = [0] * len(alph)\n",
    "\n",
    "    bin_beg[alph.index(word[0])] += 1\n",
    "    bin_end[alph.index(word[-1])] += 1\n",
    "\n",
    "    for i in range(1, len(word) - 1):\n",
    "        bin_middle[alph.index(word[i])] += 1\n",
    "\n",
    "    bin_all = bin_beg + bin_middle + bin_end\n",
    "    return bin_all\n"
   ],
   "metadata": {
    "collapsed": false,
    "pycharm": {
     "name": "#%%\n"
    }
   }
  },
  {
   "cell_type": "code",
   "execution_count": 6,
   "outputs": [],
   "source": [
    "words = X[:-1]\n",
    "labels = X[-1]\n",
    "\n",
    "vfunc = np.vectorize(binarize)"
   ],
   "metadata": {
    "collapsed": false,
    "pycharm": {
     "name": "#%%\n"
    }
   }
  },
  {
   "cell_type": "code",
   "execution_count": 7,
   "outputs": [
    {
     "ename": "ValueError",
     "evalue": "setting an array element with a sequence.",
     "output_type": "error",
     "traceback": [
      "\u001B[1;31m---------------------------------------------------------------------------\u001B[0m",
      "\u001B[1;31mTypeError\u001B[0m                                 Traceback (most recent call last)",
      "\u001B[1;31mTypeError\u001B[0m: int() argument must be a string, a bytes-like object or a number, not 'list'",
      "\nThe above exception was the direct cause of the following exception:\n",
      "\u001B[1;31mValueError\u001B[0m                                Traceback (most recent call last)",
      "Input \u001B[1;32mIn [7]\u001B[0m, in \u001B[0;36m<cell line: 1>\u001B[1;34m()\u001B[0m\n\u001B[1;32m----> 1\u001B[0m res \u001B[38;5;241m=\u001B[39m \u001B[43mvfunc\u001B[49m\u001B[43m(\u001B[49m\u001B[43mwords\u001B[49m\u001B[43m)\u001B[49m\n",
      "File \u001B[1;32m~\\.conda\\envs\\masproj_env\\lib\\site-packages\\numpy\\lib\\function_base.py:2304\u001B[0m, in \u001B[0;36mvectorize.__call__\u001B[1;34m(self, *args, **kwargs)\u001B[0m\n\u001B[0;32m   2301\u001B[0m     vargs \u001B[38;5;241m=\u001B[39m [args[_i] \u001B[38;5;28;01mfor\u001B[39;00m _i \u001B[38;5;129;01min\u001B[39;00m inds]\n\u001B[0;32m   2302\u001B[0m     vargs\u001B[38;5;241m.\u001B[39mextend([kwargs[_n] \u001B[38;5;28;01mfor\u001B[39;00m _n \u001B[38;5;129;01min\u001B[39;00m names])\n\u001B[1;32m-> 2304\u001B[0m \u001B[38;5;28;01mreturn\u001B[39;00m \u001B[38;5;28;43mself\u001B[39;49m\u001B[38;5;241;43m.\u001B[39;49m\u001B[43m_vectorize_call\u001B[49m\u001B[43m(\u001B[49m\u001B[43mfunc\u001B[49m\u001B[38;5;241;43m=\u001B[39;49m\u001B[43mfunc\u001B[49m\u001B[43m,\u001B[49m\u001B[43m \u001B[49m\u001B[43margs\u001B[49m\u001B[38;5;241;43m=\u001B[39;49m\u001B[43mvargs\u001B[49m\u001B[43m)\u001B[49m\n",
      "File \u001B[1;32m~\\.conda\\envs\\masproj_env\\lib\\site-packages\\numpy\\lib\\function_base.py:2390\u001B[0m, in \u001B[0;36mvectorize._vectorize_call\u001B[1;34m(self, func, args)\u001B[0m\n\u001B[0;32m   2387\u001B[0m outputs \u001B[38;5;241m=\u001B[39m ufunc(\u001B[38;5;241m*\u001B[39minputs)\n\u001B[0;32m   2389\u001B[0m \u001B[38;5;28;01mif\u001B[39;00m ufunc\u001B[38;5;241m.\u001B[39mnout \u001B[38;5;241m==\u001B[39m \u001B[38;5;241m1\u001B[39m:\n\u001B[1;32m-> 2390\u001B[0m     res \u001B[38;5;241m=\u001B[39m \u001B[43masanyarray\u001B[49m\u001B[43m(\u001B[49m\u001B[43moutputs\u001B[49m\u001B[43m,\u001B[49m\u001B[43m \u001B[49m\u001B[43mdtype\u001B[49m\u001B[38;5;241;43m=\u001B[39;49m\u001B[43motypes\u001B[49m\u001B[43m[\u001B[49m\u001B[38;5;241;43m0\u001B[39;49m\u001B[43m]\u001B[49m\u001B[43m)\u001B[49m\n\u001B[0;32m   2391\u001B[0m \u001B[38;5;28;01melse\u001B[39;00m:\n\u001B[0;32m   2392\u001B[0m     res \u001B[38;5;241m=\u001B[39m \u001B[38;5;28mtuple\u001B[39m([asanyarray(x, dtype\u001B[38;5;241m=\u001B[39mt)\n\u001B[0;32m   2393\u001B[0m                  \u001B[38;5;28;01mfor\u001B[39;00m x, t \u001B[38;5;129;01min\u001B[39;00m \u001B[38;5;28mzip\u001B[39m(outputs, otypes)])\n",
      "\u001B[1;31mValueError\u001B[0m: setting an array element with a sequence."
     ]
    }
   ],
   "source": [
    "res = vfunc(words)"
   ],
   "metadata": {
    "collapsed": false,
    "pycharm": {
     "name": "#%%\n"
    }
   }
  }
 ],
 "metadata": {
  "kernelspec": {
   "display_name": "Python 3",
   "language": "python",
   "name": "python3"
  },
  "language_info": {
   "codemirror_mode": {
    "name": "ipython",
    "version": 3
   },
   "file_extension": ".py",
   "mimetype": "text/x-python",
   "name": "python",
   "nbconvert_exporter": "python",
   "pygments_lexer": "ipython3",
   "version": "3.8.5"
  }
 },
 "nbformat": 4,
 "nbformat_minor": 5
}